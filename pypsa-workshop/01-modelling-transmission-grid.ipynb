{
 "cells": [
  {
   "cell_type": "markdown",
   "id": "bd1a5409",
   "metadata": {},
   "source": [
    "# Modelling the transmission grid in PyPSA-Eur"
   ]
  },
  {
   "cell_type": "markdown",
   "id": "0b201bb2",
   "metadata": {},
   "source": [
    ":::{note}\n",
    "If you have not yet set up Python on your computer, you can execute this tutorial in your browser via [Google Colab](https://colab.research.google.com/). Click on the rocket in the top right corner and launch \"Colab\". If that doesn't work download the `.ipynb` file and import it in [Google Colab](https://colab.research.google.com/).\n",
    "\n",
    "Then install the following packages by executing the following command in a Jupyter cell at the top of the notebook.\n",
    "\n",
    "```sh\n",
    "!pip install pypsa highspy\n",
    "```\n",
    ":::"
   ]
  },
  {
   "cell_type": "markdown",
   "id": "bb705e92",
   "metadata": {},
   "source": [
    "## Background"
   ]
  },
  {
   "cell_type": "markdown",
   "id": "7a28b1b5",
   "metadata": {},
   "source": [
    "### Motivation"
   ]
  },
  {
   "cell_type": "markdown",
   "id": "78b47ee2",
   "metadata": {},
   "source": [
    "* Conclusions drawn from energy system models only as good as underlying data and assumptions\n",
    "* Modelling existing infrastructure is essential\n",
    "* Geotagged, high-voltage electricity grid data not officially available to the public\n",
    "* [ENTSO-E](https://www.entsoe.eu/data/map/) and some TSOs do provide public data in form of online maps or simplified datasets, however each come with own limitations (e.g. stylised geographic information), no open licence, potentially outdated\n",
    "* Notable projects and datasets modelling the high-voltage grid in Europe include (alphabetical order):\n",
    "  * [50Hertz Static Grid Model](#references)\n",
    "  * [ELMOD](#references)\n",
    "  * [ELMOD-DE](#references)\n",
    "  * [Hutcheon & Bialek](#references)\n",
    "  * [Jao Static Grid Model (no geospatial information)](#references)\n",
    "  * [PyPSA-Eur (previously based on ENTSO-E online map)](#references)\n",
    "  * [osmTGmod](#references)\n",
    "  * [SciGrid (Power)](#references)"
   ]
  },
  {
   "cell_type": "markdown",
   "id": "64f0ebf9",
   "metadata": {},
   "source": [
    "### Benefits of our implementation"
   ]
  },
  {
   "cell_type": "markdown",
   "id": "45008aeb",
   "metadata": {},
   "source": [
    "* Reconstruction of the European high-voltage grid based on entirely public data\n",
    "* Clear licensing Open Data Commons Open Database (ODbL 1.0)\n",
    "* Always up to date and easy to maintain by accessing the OpenStreetMap Overpass turbo API\n",
    "* Open (.csv) file format and standardised parameters, allows use outside of PyPSA-Eur\n",
    "* Transparent, easy-to-reproduce workflow\n",
    "* Compatibility with other PyPSA and PyPSA-Eur functions such as Dynamic Line Rating, enabling planned transmission projects (TYNDP, NEP)"
   ]
  },
  {
   "cell_type": "markdown",
   "id": "75674014",
   "metadata": {},
   "source": [
    "## Reconstructing the European high-voltage grid from OpenStreetMap"
   ]
  },
  {
   "cell_type": "markdown",
   "id": "b5abbbfc",
   "metadata": {},
   "source": [
    "The following section gives an overview of how a PyPSA-ready grid dataset is created from OpenStreetMap data. You can read the open-access **full paper** here:\n",
    "\n",
    "Xiong, B., Fioriti, D., Neumann, F., Riepin, I., Brown, T. **Modelling the high-voltage grid using open data for Europe and beyond.** Sci Data 12, 277. https://doi.org/10.1038/s41597-025-04550-7 (2025). https://www.nature.com/articles/s41597-025-04550-7"
   ]
  },
  {
   "cell_type": "markdown",
   "id": "a4d7d881",
   "metadata": {},
   "source": [
    "### Overview"
   ]
  },
  {
   "cell_type": "markdown",
   "id": "7492b9af",
   "metadata": {},
   "source": [
    "Map of the OSM-based European high-voltage grid. Map generated using prebuilt network published on [Zenodo](#references).\n",
    "\n",
    "<img src=\"https://media.springernature.com/full/springer-static/image/art%3A10.1038%2Fs41597-025-04550-7/MediaObjects/41597_2025_4550_Fig6_HTML.png\" width=\"500px\" />"
   ]
  },
  {
   "cell_type": "markdown",
   "id": "8cc6ea65",
   "metadata": {},
   "source": [
    "### Process diagram"
   ]
  },
  {
   "cell_type": "markdown",
   "id": "3c1a9665",
   "metadata": {},
   "source": [
    "**Process diagram** depicting the creation of the European high-voltage grid from OSM data, implemented through individual [Snakemake rules](#references).\n",
    "\n",
    "<img src=\"https://media.springernature.com/full/springer-static/image/art%3A10.1038%2Fs41597-025-04550-7/MediaObjects/41597_2025_4550_Fig1_HTML.png\" alt=\"Process diagram: Snakemake\" width=\"700px\" />"
   ]
  },
  {
   "cell_type": "markdown",
   "id": "28244628",
   "metadata": {},
   "source": [
    "In step 3, A topologically and electrically network is then built using a sequence of steps.\n"
   ]
  },
  {
   "cell_type": "markdown",
   "id": "e092c768",
   "metadata": {},
   "source": [
    "<img src=\"https://media.springernature.com/full/springer-static/image/art%3A10.1038%2Fs41597-025-04550-7/MediaObjects/41597_2025_4550_Fig4_HTML.png\" alt=\"Process diagram: Schematic\" width=\"700px\">"
   ]
  },
  {
   "cell_type": "markdown",
   "id": "eb80c0b0",
   "metadata": {},
   "source": [
    "### Bus clustering\n",
    "**Example of bus clustering.** The darkred shape represents the union of the buffer around virtual buses and an original OSM substation polygon (yellow). The bright red dot represents the internal point of the union, this point sets the geographic coordinates of the obtained bus. Lines and cables are connected to the respective voltage level within the substation, transformers are added to connect buses of different voltage levels.\n",
    "\n",
    "<img src=\"https://media.springernature.com/full/springer-static/image/art%3A10.1038%2Fs41597-025-04550-7/MediaObjects/41597_2025_4550_Fig5_HTML.png\" alt=\"Bus clustering\" width=\"700px\"/>"
   ]
  },
  {
   "cell_type": "markdown",
   "id": "26e8281b",
   "metadata": {},
   "source": [
    "### Validation and metrics"
   ]
  },
  {
   "cell_type": "markdown",
   "id": "6518f6a1",
   "metadata": {},
   "source": [
    "**Comparing the OSM-based grid to ENTSO-map**.\n",
    "\n",
    "<img src=\"https://media.springernature.com/full/springer-static/image/art%3A10.1038%2Fs41597-025-04550-7/MediaObjects/41597_2025_4550_Fig7_HTML.png\" alt=\"Comparison of route and circuit lengths\" width=\"700px\"/>"
   ]
  },
  {
   "cell_type": "markdown",
   "id": "c02b5b8f",
   "metadata": {},
   "source": [
    "**Weighted degree distribution** before and after clustering (NUTS2).\n",
    "\n",
    "<img src=\"https://media.springernature.com/full/springer-static/image/art%3A10.1038%2Fs41597-025-04550-7/MediaObjects/41597_2025_4550_Fig9_HTML.png\" alt=\"WEighted degree distribution\" width=\"700px\"/>"
   ]
  },
  {
   "cell_type": "markdown",
   "id": "a2f16e4f",
   "metadata": {},
   "source": [
    "**Comparison with public, geocoded 50Hertz static grid model**.\n",
    "\n",
    "<img src=\"https://media.springernature.com/full/springer-static/image/art%3A10.1038%2Fs41597-025-04550-7/MediaObjects/41597_2025_4550_Fig17_HTML.png\" alt=\"Comparison with 50Hertz SGM\" width=\"700px\"/>"
   ]
  },
  {
   "cell_type": "markdown",
   "id": "e06fb8a8",
   "metadata": {},
   "source": [
    "## Exploring the data (base network)"
   ]
  },
  {
   "cell_type": "markdown",
   "id": "8e18f2bc",
   "metadata": {},
   "source": [
    "This is an interactive part of the workshop, you can follow the live demonstration or try out the notebook yourself.\n",
    "\n",
    "First, we need to import `geopandas`, `folium`, and `pypsa`."
   ]
  },
  {
   "cell_type": "code",
   "execution_count": null,
   "id": "62e5e094",
   "metadata": {},
   "outputs": [],
   "source": [
    "import geopandas as gpd\n",
    "import numpy as np\n",
    "import pypsa"
   ]
  },
  {
   "cell_type": "markdown",
   "id": "3d5ea6ea",
   "metadata": {},
   "source": [
    "Let's import the base network created from the above workflow."
   ]
  },
  {
   "cell_type": "code",
   "execution_count": null,
   "id": "0a047401",
   "metadata": {},
   "outputs": [],
   "source": [
    "network_path = \"resources/base.nc\"\n",
    "n = pypsa.Network(network_path)"
   ]
  },
  {
   "cell_type": "markdown",
   "id": "253e04b5",
   "metadata": {},
   "source": [
    "PyPSA calculates the line parameters just before the model is solved. If we want to see the underlying impedance $r$, reactance $x$, and susceptance $b$, we can trigger the calculation, manually."
   ]
  },
  {
   "cell_type": "code",
   "execution_count": null,
   "id": "050a7b02",
   "metadata": {},
   "outputs": [],
   "source": [
    "n.calculate_dependent_values()\n",
    "n.lines[\"i_nom\"] = (\n",
    "    (n.lines.s_nom / n.lines.v_nom / n.lines.num_parallel)\n",
    "    .div(np.sqrt(3))\n",
    "    .round(3)\n",
    ")  # kA"
   ]
  },
  {
   "cell_type": "markdown",
   "id": "3172a12e",
   "metadata": {},
   "source": [
    "So how did this work? Underneath, PyPSA maps each line to a library of built-in standard line types to obtain per linetype, per km values"
   ]
  },
  {
   "cell_type": "code",
   "execution_count": null,
   "id": "08768a0a",
   "metadata": {},
   "outputs": [],
   "source": [
    "print(n.line_types.head())\n",
    "print(\"\\nAC line types in the base network:\")\n",
    "print(f\"AC Line types: {sorted(n.lines.type.unique())}\")"
   ]
  },
  {
   "cell_type": "markdown",
   "id": "6961cac8",
   "metadata": {},
   "source": [
    "We import a helper function to visualise the detailed network, interactively"
   ]
  },
  {
   "cell_type": "code",
   "execution_count": null,
   "id": "1311942f",
   "metadata": {},
   "outputs": [],
   "source": [
    "from resources.helpers import create_geometries\n",
    "buses, lines, links, converters, transformers = create_geometries(n)"
   ]
  },
  {
   "cell_type": "markdown",
   "id": "2d45a5e7",
   "metadata": {},
   "source": [
    "### Interactive map"
   ]
  },
  {
   "cell_type": "markdown",
   "id": "20692313",
   "metadata": {},
   "source": [
    "Using the PyPSA base network, let's create an **interactive map**. To help visualise the underlying input data, we also import the cleaned substations"
   ]
  },
  {
   "cell_type": "code",
   "execution_count": null,
   "id": "32a62614",
   "metadata": {},
   "outputs": [],
   "source": [
    "stations_polygon = gpd.read_file(\"resources/stations_polygon.geojson\")\n",
    "buses_polygon = gpd.read_file(\"resources/buses_polygon.geojson\")"
   ]
  },
  {
   "cell_type": "markdown",
   "id": "0cbe0003",
   "metadata": {},
   "source": [
    "Stacking everything together on a single folium map"
   ]
  },
  {
   "cell_type": "code",
   "execution_count": null,
   "id": "97110538",
   "metadata": {},
   "outputs": [],
   "source": [
    "map = None\n",
    "b_popup = True\n",
    "\n",
    "map = stations_polygon.explore(color=\"yellow\", popup=b_popup)\n",
    "map = buses_polygon.query(\"dc == False\").explore(color=\"red\", popup=b_popup, m=map)\n",
    "map = buses_polygon.query(\"dc == True\").explore(color=\"purple\", popup=b_popup, m=map)\n",
    "map = lines.query(\"v_nom <= 230\").explore(color=\"green\", popup=b_popup, m=map)\n",
    "map = lines.query(\"(v_nom > 230) & (v_nom <= 330)\").explore(color=\"orange\", popup=b_popup, m=map)\n",
    "map = lines.query(\"(v_nom > 330) & (v_nom <= 420)\").explore(color=\"darkred\", popup=b_popup, m=map)\n",
    "map = lines.query(\"v_nom > 420\").explore(color=\"pink\", popup=b_popup, m=map)\n",
    "map = links.explore(color=\"purple\", popup=b_popup, m=map)\n",
    "map = converters.explore(color=\"black\", popup=b_popup, m=map)\n",
    "map = transformers.explore(color=\"pink\", popup=b_popup, m=map)"
   ]
  },
  {
   "cell_type": "markdown",
   "id": "17ebda98",
   "metadata": {},
   "source": [
    "How about locating the [\"Kabeldiagonale\"](https://www.50hertz.com/de/Netz/Netzausbau/ProjekteanLand/BerlinerProjekte/KabeldiagonaleBerlin/) in Berlin?"
   ]
  },
  {
   "cell_type": "code",
   "execution_count": null,
   "id": "77db180a",
   "metadata": {},
   "outputs": [],
   "source": [
    "map"
   ]
  },
  {
   "cell_type": "markdown",
   "id": "6dc3c209",
   "metadata": {},
   "source": [
    "**Questions**\n",
    "1. What are its attributes ($i_{nom}^{max}$, $v_{nom}$, and $s_{nom}^{max}$)? \n",
    "2. How many circuits does it have?\n",
    "3. How long is the longest section within Berlin?\n",
    "4. What are the names of the two substations connected to this section?"
   ]
  },
  {
   "cell_type": "markdown",
   "id": "6e37b0e9",
   "metadata": {},
   "source": [
    "## References"
   ]
  },
  {
   "cell_type": "markdown",
   "id": "1ac1ab13",
   "metadata": {},
   "source": [
    "* 50Hertz. **Static grid model**. https://www.50hertz.com/Transparency/GridData/Gridfigures/Staticgridmodel/ (2022).\n",
    "* Egerer, J. et al. **Electricity sector data for policy-relevant modeling: Data documentation and applications to the German and European electricity markets**. Research Report 72, DIW Data Documentation (2014).\n",
    "* Egerer, J. **Open Source Electricity Model for Germany (ELMOD-DE)**. Data Documentation (2016).\n",
    "* JAO. **Static Grid Model**. https://www.jao.eu/static-grid-model (2023).\n",
    "* Hörsch, J., Hofmann, F., Schlachtberger, D. & Brown, T. **PyPSA-Eur: An open optimisation model of the European transmission system**. Energy Strategy Reviews 22, 207–215, https://doi.org/10.1016/j.esr.2018.08.012 (2018).\n",
    "* Hutcheon, N. & Bialek, J. W. **Updated and validated power flow model of the main continental European transmission network**. In 2013 IEEE Grenoble Conference, 1–5, https://doi.org/10.1109/PTC.2013.6652178 (2013).\n",
    "* Medjroubi, W., Müller, U. P., Scharf, M., Matke, C. & Kleinhans, D. **Open Data in Power Grid Modelling: New Approaches Towards Transparent Grid Models**. Energy Reports 3, 14–21, https://doi.org/10.1016/j.egyr.2016.12.001 (2017).\n",
    "* Mölder, F. et al. **Sustainable data analysis with Snakemake**. https://doi.org/10.12688/f1000research.29032.2 (2021).\n",
    "* **OSMTGmod Documentation** 0.1.0. https://github.com/wupperinst/osmTGmod/blob/master/osmTGmod_documentation_0.1.0.pdf (2017).\n",
    "* Xiong, B., Fioriti, D., Neumann, F., Riepin, I., Brown, T. **Modelling the high-voltage grid using open data for Europe and beyond.** Sci Data 12, 277. https://doi.org/10.1038/s41597-025-04550-7 (2025).\n",
    "* Xiong, B., Fioriti, D., Neumann, F., Riepin, I., Brown, T. **Prebuilt Electricity Network for PyPSA-Eur based on OpenStreetMap Data (0.6) [Data set].** Zenodo. https://doi.org/10.5281/zenodo.14144752 (2024)."
   ]
  }
 ],
 "metadata": {
  "kernelspec": {
   "display_name": "pypsa-eur",
   "language": "python",
   "name": "python3"
  },
  "language_info": {
   "codemirror_mode": {
    "name": "ipython",
    "version": 3
   },
   "file_extension": ".py",
   "mimetype": "text/x-python",
   "name": "python",
   "nbconvert_exporter": "python",
   "pygments_lexer": "ipython3",
   "version": "3.12.10"
  }
 },
 "nbformat": 4,
 "nbformat_minor": 5
}
